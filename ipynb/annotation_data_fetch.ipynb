{
  "cells": [
    {
      "cell_type": "markdown",
      "metadata": {
        "id": "8YVaYGf3UHRB"
      },
      "source": [
        "## 下载最新schema文件并提取出最新form的完整结构"
      ]
    },
    {
      "cell_type": "code",
      "execution_count": null,
      "metadata": {
        "colab": {
          "base_uri": "https://localhost:8080/"
        },
        "id": "oSWpNZ1X8pIM",
        "outputId": "4f116110-451f-47db-e09e-e5081eb9260b"
      },
      "outputs": [
        {
          "name": "stdout",
          "output_type": "stream",
          "text": [
            "  % Total    % Received % Xferd  Average Speed   Time    Time     Time  Current\n",
            "                                 Dload  Upload   Total   Spent    Left  Speed\n",
            "100 61904  100 61904    0     0   100k      0 --:--:-- --:--:-- --:--:--  100k\n"
          ]
        }
      ],
      "source": [
        "! curl -o schema.ts \"https://raw.githubusercontent.com/IKKEM-Lin/annotation-demo/refs/heads/main/src/schema.ts\""
      ]
    },
    {
      "cell_type": "code",
      "execution_count": null,
      "metadata": {
        "id": "uQNjzv7Y9uA5"
      },
      "outputs": [],
      "source": [
        "import json\n",
        "import re\n",
        "with open('schema.ts', 'r', encoding='utf-8') as f:\n",
        "    schema = f.read()\n",
        "fix_str = re.sub(r\"export\\s*const\\s*schema\\s*=\\s*\", \"\", schema.strip())\n",
        "fix_str = re.sub(r\";$\", \"\", fix_str)\n",
        "schema = json.loads(fix_str).get(\"schema\")\n",
        "\n",
        "def generate_form_structure(schema):\n",
        "    if schema.get(\"type\") == \"void\" and not schema.get(\"properties\"):\n",
        "      return None\n",
        "    elif schema.get(\"type\") in [\"object\", \"void\"]:\n",
        "        form_structure = {}\n",
        "        properties = schema.get(\"properties\", {})\n",
        "        for key, value in properties.items():\n",
        "            child_strc = generate_form_structure(value)\n",
        "            if value.get(\"type\") == \"void\" and type(child_strc) == dict:\n",
        "              for child_key, child_value in child_strc.items():\n",
        "                if child_value:\n",
        "                  form_structure[child_key] = child_value\n",
        "            else:\n",
        "              form_structure[key] = child_strc\n",
        "        return form_structure\n",
        "\n",
        "    elif schema.get(\"type\") == \"array\":\n",
        "        items = schema.get(\"items\", {})\n",
        "        return [generate_form_structure(items)]\n",
        "    else:\n",
        "        return \"unknown\"\n",
        "\n",
        "form_structure = generate_form_structure(schema)\n",
        "\n",
        "# print(json.dumps(form_structure, indent=4, ensure_ascii=False))"
      ]
    },
    {
      "cell_type": "markdown",
      "metadata": {
        "id": "D9m6if7VUkIq"
      },
      "source": [
        "## 根据提供的用户名密码，自动拉取该用户的所有任务的最新标注结果"
      ]
    },
    {
      "cell_type": "code",
      "execution_count": null,
      "metadata": {
        "id": "Gpo1ZbVJJNm5"
      },
      "outputs": [],
      "source": [
        "import requests\n",
        "\n",
        "# api返回结果按照form结构填充\n",
        "def data_to_form(data, structure, data_is_struc = False):\n",
        "  if isinstance(data, list):\n",
        "    return [data_to_form(item, structure[0], data_is_struc) for item in data]\n",
        "  elif isinstance(data, dict):\n",
        "    form_data = {}\n",
        "    for key, value in structure.items():\n",
        "      # if isinstance(value, list):\n",
        "      #   print(key)\n",
        "      skip_struc_fill = isinstance(value, list) and data_is_struc\n",
        "      new_data_is_struc = data_is_struc or (key not in data)\n",
        "      form_data[key] = data_to_form(not skip_struc_fill and data.get(key, value) or [], value, new_data_is_struc)\n",
        "    return form_data\n",
        "  else:\n",
        "    return data\n",
        "\n",
        "def main(username, password, domin):\n",
        "  login_url = f\"{domin}/api/login\"\n",
        "  task_url = f\"{domin}/api/upload-json\"\n",
        "\n",
        "  login_res = requests.post(login_url, headers={}, json={\n",
        "    \"username\": username,\n",
        "    \"password\": password\n",
        "  })\n",
        "  authorization = login_res.json()['token']\n",
        "\n",
        "  task_res = requests.get(task_url, headers={ \"authorization\": authorization, \"content-type\": \"application/json\", })\n",
        "  tasks = task_res.json()\n",
        "  # print(tasks)\n",
        "  pending_tasks = []\n",
        "  for doi, val in tasks.items():\n",
        "    if val.get(\"latestFile\"):\n",
        "      pending_tasks.append({\"doi\": doi, \"file\": val.get(\"latestFile\")})\n",
        "\n",
        "  result = []\n",
        "  for task in pending_tasks:\n",
        "    article_name = f'{task.get(\"doi\")}.pdf'\n",
        "    file_url = f'{domin}/api/upload-json/{article_name}/{task.get(\"file\")}'\n",
        "    res = requests.get(file_url, headers={ \"authorization\": authorization, \"content-type\": \"application/json\", })\n",
        "    result.append({\"doi\": task[\"doi\"], \"data\": data_to_form(res.json()[0][\"value\"], form_structure)})\n",
        "  return result"
      ]
    },
    {
      "cell_type": "code",
      "execution_count": null,
      "metadata": {
        "colab": {
          "base_uri": "https://localhost:8080/"
        },
        "id": "cv-fEMUxSc6V",
        "outputId": "90fd5f06-9814-45bf-a4f1-0d4707dec2f4"
      },
      "outputs": [
        {
          "name": "stdout",
          "output_type": "stream",
          "text": [
            "[\n",
            "    {\n",
            "        \"doi\": \"10.1002_anie.201608165\",\n",
            "        \"data\": {\n",
            "            \"reactionType\": \"thermal catalysis\",\n",
            "            \"reactants\": {\n",
            "                \"reactantList\": [\n",
            "                    {\n",
            "                        \"reactantName\": \"unknown\",\n",
            "                        \"conversion\": \"unknown\"\n",
            "                    }\n",
            "                ],\n",
            "                \"reactantMixtureRatio\": \"tes\"\n",
            "            },\n",
            "            \"catalyst\": {\n",
            "                \"catalystName\": \"unknown\",\n",
            "                \"catalystMixtureRatio\": \"unknown\",\n",
            "                \"promoters\": [],\n",
            "                \"catalystBETSurfaceArea\": \"unknown\",\n",
            "                \"turnoverFrequency\": \"unknown\",\n",
            "                \"catalystLoading\": \"unknown\",\n",
            "                \"catalystSupport\": \"unknown\",\n",
            "                \"catalystShape\": \"unknown\",\n",
            "                \"catalystPoreSize\": \"unknown\",\n",
            "                \"catalystPoreVolume\": \"unknown\",\n",
            "                \"catPreparationMethod\": \"unknown\",\n",
            "                \"catAcidityAndBasicity\": \"unknown\",\n",
            "                \"catMetalOxidationStates\": []\n",
            "            },\n",
            "            \"conditions\": {\n",
            "                \"isHeterogeneous\": \"unknown\",\n",
            "                \"gases\": [],\n",
            "                \"temperature\": \"unknown\",\n",
            "                \"reactionTime\": \"unknown\",\n",
            "                \"lightSource\": \"unknown\",\n",
            "                \"lightWavelength\": \"unknown\",\n",
            "                \"quantumEfficiency\": \"unknown\",\n",
            "                \"electrodeMaterial\": \"unknown\",\n",
            "                \"appliedPotential\": \"unknown\",\n",
            "                \"currentDensity\": \"unknown\",\n",
            "                \"referenceElectrode\": \"unknown\",\n",
            "                \"counterElectrode\": \"unknown\",\n",
            "                \"energyConversionEfficiency\": \"unknown\"\n",
            "            },\n",
            "            \"solvents\": {\n",
            "                \"solventList\": [],\n",
            "                \"solventPH\": \"unknown\"\n",
            "            },\n",
            "            \"productions\": {\n",
            "                \"productions\": []\n",
            "            }\n",
            "        }\n",
            "    },\n",
            "    {\n",
            "        \"doi\": \"10.1039_c6sc02664h\",\n",
            "        \"data\": {\n",
            "            \"reactionType\": \"thermal catalysis\",\n",
            "            \"reactants\": {\n",
            "                \"reactantList\": [\n",
            "                    {\n",
            "                        \"reactantName\": \"test\",\n",
            "                        \"conversion\": \"test\"\n",
            "                    }\n",
            "                ],\n",
            "                \"reactantMixtureRatio\": \"dfe\"\n",
            "            },\n",
            "            \"catalyst\": {\n",
            "                \"catalystName\": \"sfe\",\n",
            "                \"catalystMixtureRatio\": \"unknown\",\n",
            "                \"promoters\": [\n",
            "                    {\n",
            "                        \"promoterName\": \"werw\",\n",
            "                        \"role\": \"req\"\n",
            "                    }\n",
            "                ],\n",
            "                \"catalystBETSurfaceArea\": \"unknown\",\n",
            "                \"turnoverFrequency\": \"unknown\",\n",
            "                \"catalystLoading\": \"unknown\",\n",
            "                \"catalystSupport\": \"unknown\",\n",
            "                \"catalystShape\": \"unknown\",\n",
            "                \"catalystPoreSize\": \"unknown\",\n",
            "                \"catalystPoreVolume\": \"unknown\",\n",
            "                \"catPreparationMethod\": \"unknown\",\n",
            "                \"catAcidityAndBasicity\": \"unknown\",\n",
            "                \"catMetalOxidationStates\": [\n",
            "                    {\n",
            "                        \"metal\": \"unknown\",\n",
            "                        \"oxidationState\": \"unknown\",\n",
            "                        \"proportion\": \"unknown\"\n",
            "                    }\n",
            "                ]\n",
            "            },\n",
            "            \"conditions\": {\n",
            "                \"isHeterogeneous\": \"unknown\",\n",
            "                \"gases\": [],\n",
            "                \"temperature\": \"unknown\",\n",
            "                \"reactionTime\": \"unknown\",\n",
            "                \"lightSource\": \"unknown\",\n",
            "                \"lightWavelength\": \"unknown\",\n",
            "                \"quantumEfficiency\": \"unknown\",\n",
            "                \"electrodeMaterial\": \"unknown\",\n",
            "                \"appliedPotential\": \"unknown\",\n",
            "                \"currentDensity\": \"unknown\",\n",
            "                \"referenceElectrode\": \"unknown\",\n",
            "                \"counterElectrode\": \"unknown\",\n",
            "                \"energyConversionEfficiency\": \"unknown\"\n",
            "            },\n",
            "            \"solvents\": {\n",
            "                \"solventList\": [],\n",
            "                \"solventPH\": \"unknown\"\n",
            "            },\n",
            "            \"productions\": {\n",
            "                \"productions\": [\n",
            "                    {\n",
            "                        \"productName\": \"re\",\n",
            "                        \"yield\": \"unknown\",\n",
            "                        \"selectivity\": \"unknown\",\n",
            "                        \"faradaicEfficiency\": \"unknown\"\n",
            "                    }\n",
            "                ]\n",
            "            }\n",
            "        }\n",
            "    }\n",
            "]\n"
          ]
        }
      ],
      "source": [
        "domin = \"http://192.168.1.219:9557\"\n",
        "\n",
        "data = {\n",
        "    \"username\": \"\",\n",
        "    \"password\": \"\"\n",
        "}\n",
        "\n",
        "print(json.dumps(main(data['username'], data['password'], domin), indent=4, ensure_ascii=False))"
      ]
    },
    {
      "cell_type": "code",
      "execution_count": null,
      "metadata": {
        "id": "ugZB0_A8Znpp"
      },
      "outputs": [],
      "source": []
    }
  ],
  "metadata": {
    "colab": {
      "provenance": []
    },
    "kernelspec": {
      "display_name": "Python 3",
      "name": "python3"
    },
    "language_info": {
      "name": "python"
    }
  },
  "nbformat": 4,
  "nbformat_minor": 0
}
